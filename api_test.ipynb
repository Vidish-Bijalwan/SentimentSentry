{
 "cells": [
  {
   "cell_type": "code",
   "execution_count": 10,
   "id": "f42c4d81-8a8c-40b7-aa02-9d1eeac0bfb2",
   "metadata": {},
   "outputs": [
    {
     "name": "stdout",
     "output_type": "stream",
     "text": [
      "Dataset saved to apple_cash_flow.csv\n"
     ]
    }
   ],
   "source": [
    "import http.client\n",
    "import pandas as pd\n",
    "import json\n",
    "\n",
    "#api requests:\n",
    "\n",
    "conn = http.client.HTTPSConnection(\"real-time-finance-data.p.rapidapi.com\")\n",
    "headers = {\n",
    "    'x-rapidapi-key': \"29176455d0msh76cff296476b1c5p160124jsn18fe314a32b4\",\n",
    "    'x-rapidapi-host': \"real-time-finance-data.p.rapidapi.com\"\n",
    "}\n",
    "\n",
    "conn.request(\"GET\",\"/company-cash-flow?symbol=AAPL%3ANASDAQ&period=QUARTERLY&language=en\", headers=headers)\n",
    "res = conn.getresponse()\n",
    "data = res.read()\n",
    "\n",
    "#phrse JSON\n",
    "\n",
    "json_data = json.loads(data.decode(\"utf-8\"))\n",
    "\n",
    "#extract cash flow data\n",
    "cash_flow_data = json_data.get(\"data\",{}).get(\"cash_flow\",[])\n",
    "\n",
    "#convert to pandas DataFrame\n",
    "df =pd.DataFrame(cash_flow_data)\n",
    "\n",
    "\n",
    "# save to csv\n",
    "df.to_csv(\"apple_cash_flow.csv\",index=False)\n",
    "\n",
    "print(\"Dataset saved to apple_cash_flow.csv\")\n"
   ]
  },
  {
   "cell_type": "code",
   "execution_count": null,
   "id": "b2c60cc8-da8d-47f5-a2f6-3966ad6d5440",
   "metadata": {},
   "outputs": [],
   "source": []
  }
 ],
 "metadata": {
  "kernelspec": {
   "display_name": "Python 3 (ipykernel)",
   "language": "python",
   "name": "python3"
  },
  "language_info": {
   "codemirror_mode": {
    "name": "ipython",
    "version": 3
   },
   "file_extension": ".py",
   "mimetype": "text/x-python",
   "name": "python",
   "nbconvert_exporter": "python",
   "pygments_lexer": "ipython3",
   "version": "3.12.5"
  }
 },
 "nbformat": 4,
 "nbformat_minor": 5
}
